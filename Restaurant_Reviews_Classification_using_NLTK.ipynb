{
  "nbformat": 4,
  "nbformat_minor": 0,
  "metadata": {
    "colab": {
      "provenance": []
    },
    "kernelspec": {
      "name": "python3",
      "display_name": "Python 3"
    },
    "language_info": {
      "name": "python"
    }
  },
  "cells": [
    {
      "cell_type": "code",
      "execution_count": 1,
      "metadata": {
        "id": "0-OTjoRWK1-N"
      },
      "outputs": [],
      "source": [
        "import pandas as pd \n",
        "import numpy as np\n",
        "import matplotlib.pyplot as plt "
      ]
    },
    {
      "cell_type": "code",
      "source": [
        "data = pd.read_csv(\"Restaurant_Reviews.tsv\", sep = \"\\t\", quoting = 3)"
      ],
      "metadata": {
        "id": "4T2PmkciLThx"
      },
      "execution_count": 2,
      "outputs": []
    },
    {
      "cell_type": "code",
      "source": [
        "data.head()"
      ],
      "metadata": {
        "colab": {
          "base_uri": "https://localhost:8080/",
          "height": 206
        },
        "id": "ocl1QpqkLhyf",
        "outputId": "0938cfed-b3b5-4861-daf8-8c9af354aa3f"
      },
      "execution_count": 3,
      "outputs": [
        {
          "output_type": "execute_result",
          "data": {
            "text/plain": [
              "                                              Review  Liked\n",
              "0                           Wow... Loved this place.      1\n",
              "1                                 Crust is not good.      0\n",
              "2          Not tasty and the texture was just nasty.      0\n",
              "3  Stopped by during the late May bank holiday of...      1\n",
              "4  The selection on the menu was great and so wer...      1"
            ],
            "text/html": [
              "\n",
              "  <div id=\"df-3e16dcc7-dff4-4942-9595-4febebd8941a\">\n",
              "    <div class=\"colab-df-container\">\n",
              "      <div>\n",
              "<style scoped>\n",
              "    .dataframe tbody tr th:only-of-type {\n",
              "        vertical-align: middle;\n",
              "    }\n",
              "\n",
              "    .dataframe tbody tr th {\n",
              "        vertical-align: top;\n",
              "    }\n",
              "\n",
              "    .dataframe thead th {\n",
              "        text-align: right;\n",
              "    }\n",
              "</style>\n",
              "<table border=\"1\" class=\"dataframe\">\n",
              "  <thead>\n",
              "    <tr style=\"text-align: right;\">\n",
              "      <th></th>\n",
              "      <th>Review</th>\n",
              "      <th>Liked</th>\n",
              "    </tr>\n",
              "  </thead>\n",
              "  <tbody>\n",
              "    <tr>\n",
              "      <th>0</th>\n",
              "      <td>Wow... Loved this place.</td>\n",
              "      <td>1</td>\n",
              "    </tr>\n",
              "    <tr>\n",
              "      <th>1</th>\n",
              "      <td>Crust is not good.</td>\n",
              "      <td>0</td>\n",
              "    </tr>\n",
              "    <tr>\n",
              "      <th>2</th>\n",
              "      <td>Not tasty and the texture was just nasty.</td>\n",
              "      <td>0</td>\n",
              "    </tr>\n",
              "    <tr>\n",
              "      <th>3</th>\n",
              "      <td>Stopped by during the late May bank holiday of...</td>\n",
              "      <td>1</td>\n",
              "    </tr>\n",
              "    <tr>\n",
              "      <th>4</th>\n",
              "      <td>The selection on the menu was great and so wer...</td>\n",
              "      <td>1</td>\n",
              "    </tr>\n",
              "  </tbody>\n",
              "</table>\n",
              "</div>\n",
              "      <button class=\"colab-df-convert\" onclick=\"convertToInteractive('df-3e16dcc7-dff4-4942-9595-4febebd8941a')\"\n",
              "              title=\"Convert this dataframe to an interactive table.\"\n",
              "              style=\"display:none;\">\n",
              "        \n",
              "  <svg xmlns=\"http://www.w3.org/2000/svg\" height=\"24px\"viewBox=\"0 0 24 24\"\n",
              "       width=\"24px\">\n",
              "    <path d=\"M0 0h24v24H0V0z\" fill=\"none\"/>\n",
              "    <path d=\"M18.56 5.44l.94 2.06.94-2.06 2.06-.94-2.06-.94-.94-2.06-.94 2.06-2.06.94zm-11 1L8.5 8.5l.94-2.06 2.06-.94-2.06-.94L8.5 2.5l-.94 2.06-2.06.94zm10 10l.94 2.06.94-2.06 2.06-.94-2.06-.94-.94-2.06-.94 2.06-2.06.94z\"/><path d=\"M17.41 7.96l-1.37-1.37c-.4-.4-.92-.59-1.43-.59-.52 0-1.04.2-1.43.59L10.3 9.45l-7.72 7.72c-.78.78-.78 2.05 0 2.83L4 21.41c.39.39.9.59 1.41.59.51 0 1.02-.2 1.41-.59l7.78-7.78 2.81-2.81c.8-.78.8-2.07 0-2.86zM5.41 20L4 18.59l7.72-7.72 1.47 1.35L5.41 20z\"/>\n",
              "  </svg>\n",
              "      </button>\n",
              "      \n",
              "  <style>\n",
              "    .colab-df-container {\n",
              "      display:flex;\n",
              "      flex-wrap:wrap;\n",
              "      gap: 12px;\n",
              "    }\n",
              "\n",
              "    .colab-df-convert {\n",
              "      background-color: #E8F0FE;\n",
              "      border: none;\n",
              "      border-radius: 50%;\n",
              "      cursor: pointer;\n",
              "      display: none;\n",
              "      fill: #1967D2;\n",
              "      height: 32px;\n",
              "      padding: 0 0 0 0;\n",
              "      width: 32px;\n",
              "    }\n",
              "\n",
              "    .colab-df-convert:hover {\n",
              "      background-color: #E2EBFA;\n",
              "      box-shadow: 0px 1px 2px rgba(60, 64, 67, 0.3), 0px 1px 3px 1px rgba(60, 64, 67, 0.15);\n",
              "      fill: #174EA6;\n",
              "    }\n",
              "\n",
              "    [theme=dark] .colab-df-convert {\n",
              "      background-color: #3B4455;\n",
              "      fill: #D2E3FC;\n",
              "    }\n",
              "\n",
              "    [theme=dark] .colab-df-convert:hover {\n",
              "      background-color: #434B5C;\n",
              "      box-shadow: 0px 1px 3px 1px rgba(0, 0, 0, 0.15);\n",
              "      filter: drop-shadow(0px 1px 2px rgba(0, 0, 0, 0.3));\n",
              "      fill: #FFFFFF;\n",
              "    }\n",
              "  </style>\n",
              "\n",
              "      <script>\n",
              "        const buttonEl =\n",
              "          document.querySelector('#df-3e16dcc7-dff4-4942-9595-4febebd8941a button.colab-df-convert');\n",
              "        buttonEl.style.display =\n",
              "          google.colab.kernel.accessAllowed ? 'block' : 'none';\n",
              "\n",
              "        async function convertToInteractive(key) {\n",
              "          const element = document.querySelector('#df-3e16dcc7-dff4-4942-9595-4febebd8941a');\n",
              "          const dataTable =\n",
              "            await google.colab.kernel.invokeFunction('convertToInteractive',\n",
              "                                                     [key], {});\n",
              "          if (!dataTable) return;\n",
              "\n",
              "          const docLinkHtml = 'Like what you see? Visit the ' +\n",
              "            '<a target=\"_blank\" href=https://colab.research.google.com/notebooks/data_table.ipynb>data table notebook</a>'\n",
              "            + ' to learn more about interactive tables.';\n",
              "          element.innerHTML = '';\n",
              "          dataTable['output_type'] = 'display_data';\n",
              "          await google.colab.output.renderOutput(dataTable, element);\n",
              "          const docLink = document.createElement('div');\n",
              "          docLink.innerHTML = docLinkHtml;\n",
              "          element.appendChild(docLink);\n",
              "        }\n",
              "      </script>\n",
              "    </div>\n",
              "  </div>\n",
              "  "
            ]
          },
          "metadata": {},
          "execution_count": 3
        }
      ]
    },
    {
      "cell_type": "code",
      "source": [
        "data.Liked.value_counts()"
      ],
      "metadata": {
        "colab": {
          "base_uri": "https://localhost:8080/"
        },
        "id": "iXaujGM_LlM2",
        "outputId": "07ceda8c-b615-492f-a456-600091f9390a"
      },
      "execution_count": 4,
      "outputs": [
        {
          "output_type": "execute_result",
          "data": {
            "text/plain": [
              "1    500\n",
              "0    500\n",
              "Name: Liked, dtype: int64"
            ]
          },
          "metadata": {},
          "execution_count": 4
        }
      ]
    },
    {
      "cell_type": "markdown",
      "source": [
        "## Cleaning Text data Using NLTK "
      ],
      "metadata": {
        "id": "j0UO5lhXM_Rn"
      }
    },
    {
      "cell_type": "code",
      "source": [
        "import nltk\n",
        "import re"
      ],
      "metadata": {
        "id": "akRAahtANCTo"
      },
      "execution_count": 5,
      "outputs": []
    },
    {
      "cell_type": "code",
      "source": [
        "nltk.download(\"stopwords\")"
      ],
      "metadata": {
        "colab": {
          "base_uri": "https://localhost:8080/"
        },
        "id": "9maHnpyYNDnL",
        "outputId": "313c5d2b-83c4-4846-b1f0-64c9c5598376"
      },
      "execution_count": 6,
      "outputs": [
        {
          "output_type": "stream",
          "name": "stderr",
          "text": [
            "[nltk_data] Downloading package stopwords to /root/nltk_data...\n",
            "[nltk_data]   Unzipping corpora/stopwords.zip.\n"
          ]
        },
        {
          "output_type": "execute_result",
          "data": {
            "text/plain": [
              "True"
            ]
          },
          "metadata": {},
          "execution_count": 6
        }
      ]
    },
    {
      "cell_type": "code",
      "source": [
        "from nltk.corpus import stopwords"
      ],
      "metadata": {
        "id": "eeNlR5RpNOTX"
      },
      "execution_count": 7,
      "outputs": []
    },
    {
      "cell_type": "code",
      "source": [
        "data['Review'][0]"
      ],
      "metadata": {
        "colab": {
          "base_uri": "https://localhost:8080/",
          "height": 36
        },
        "id": "0chAlVxHNRXn",
        "outputId": "2f96c77e-1709-4498-c175-a2920f719c51"
      },
      "execution_count": 8,
      "outputs": [
        {
          "output_type": "execute_result",
          "data": {
            "text/plain": [
              "'Wow... Loved this place.'"
            ],
            "application/vnd.google.colaboratory.intrinsic+json": {
              "type": "string"
            }
          },
          "metadata": {},
          "execution_count": 8
        }
      ]
    },
    {
      "cell_type": "code",
      "source": [
        "reviews = re.sub('[^a-zA-Z]',\" \", data['Review'][0])"
      ],
      "metadata": {
        "id": "MmGVH3-cwsi_"
      },
      "execution_count": 9,
      "outputs": []
    },
    {
      "cell_type": "code",
      "source": [
        "reviews"
      ],
      "metadata": {
        "colab": {
          "base_uri": "https://localhost:8080/",
          "height": 36
        },
        "id": "-fFsOGlqwtCN",
        "outputId": "f7ef295c-e46f-4da6-a033-74a8a3b25f3d"
      },
      "execution_count": 10,
      "outputs": [
        {
          "output_type": "execute_result",
          "data": {
            "text/plain": [
              "'Wow    Loved this place '"
            ],
            "application/vnd.google.colaboratory.intrinsic+json": {
              "type": "string"
            }
          },
          "metadata": {},
          "execution_count": 10
        }
      ]
    },
    {
      "cell_type": "code",
      "source": [
        "review = reviews.split()"
      ],
      "metadata": {
        "id": "JhUnkNeFZyqO"
      },
      "execution_count": 11,
      "outputs": []
    },
    {
      "cell_type": "code",
      "source": [
        "review"
      ],
      "metadata": {
        "colab": {
          "base_uri": "https://localhost:8080/"
        },
        "id": "BCO3iESHdQry",
        "outputId": "131ddeb6-6eeb-4557-d51f-816d6fb8750a"
      },
      "execution_count": 12,
      "outputs": [
        {
          "output_type": "execute_result",
          "data": {
            "text/plain": [
              "['Wow', 'Loved', 'this', 'place']"
            ]
          },
          "metadata": {},
          "execution_count": 12
        }
      ]
    },
    {
      "cell_type": "code",
      "source": [
        "stopwords.words('english')"
      ],
      "metadata": {
        "colab": {
          "base_uri": "https://localhost:8080/"
        },
        "id": "bNg4kYVHdRhg",
        "outputId": "82c6dc61-967c-48a5-b00a-1b5c7c26b1eb"
      },
      "execution_count": 13,
      "outputs": [
        {
          "output_type": "execute_result",
          "data": {
            "text/plain": [
              "['i',\n",
              " 'me',\n",
              " 'my',\n",
              " 'myself',\n",
              " 'we',\n",
              " 'our',\n",
              " 'ours',\n",
              " 'ourselves',\n",
              " 'you',\n",
              " \"you're\",\n",
              " \"you've\",\n",
              " \"you'll\",\n",
              " \"you'd\",\n",
              " 'your',\n",
              " 'yours',\n",
              " 'yourself',\n",
              " 'yourselves',\n",
              " 'he',\n",
              " 'him',\n",
              " 'his',\n",
              " 'himself',\n",
              " 'she',\n",
              " \"she's\",\n",
              " 'her',\n",
              " 'hers',\n",
              " 'herself',\n",
              " 'it',\n",
              " \"it's\",\n",
              " 'its',\n",
              " 'itself',\n",
              " 'they',\n",
              " 'them',\n",
              " 'their',\n",
              " 'theirs',\n",
              " 'themselves',\n",
              " 'what',\n",
              " 'which',\n",
              " 'who',\n",
              " 'whom',\n",
              " 'this',\n",
              " 'that',\n",
              " \"that'll\",\n",
              " 'these',\n",
              " 'those',\n",
              " 'am',\n",
              " 'is',\n",
              " 'are',\n",
              " 'was',\n",
              " 'were',\n",
              " 'be',\n",
              " 'been',\n",
              " 'being',\n",
              " 'have',\n",
              " 'has',\n",
              " 'had',\n",
              " 'having',\n",
              " 'do',\n",
              " 'does',\n",
              " 'did',\n",
              " 'doing',\n",
              " 'a',\n",
              " 'an',\n",
              " 'the',\n",
              " 'and',\n",
              " 'but',\n",
              " 'if',\n",
              " 'or',\n",
              " 'because',\n",
              " 'as',\n",
              " 'until',\n",
              " 'while',\n",
              " 'of',\n",
              " 'at',\n",
              " 'by',\n",
              " 'for',\n",
              " 'with',\n",
              " 'about',\n",
              " 'against',\n",
              " 'between',\n",
              " 'into',\n",
              " 'through',\n",
              " 'during',\n",
              " 'before',\n",
              " 'after',\n",
              " 'above',\n",
              " 'below',\n",
              " 'to',\n",
              " 'from',\n",
              " 'up',\n",
              " 'down',\n",
              " 'in',\n",
              " 'out',\n",
              " 'on',\n",
              " 'off',\n",
              " 'over',\n",
              " 'under',\n",
              " 'again',\n",
              " 'further',\n",
              " 'then',\n",
              " 'once',\n",
              " 'here',\n",
              " 'there',\n",
              " 'when',\n",
              " 'where',\n",
              " 'why',\n",
              " 'how',\n",
              " 'all',\n",
              " 'any',\n",
              " 'both',\n",
              " 'each',\n",
              " 'few',\n",
              " 'more',\n",
              " 'most',\n",
              " 'other',\n",
              " 'some',\n",
              " 'such',\n",
              " 'no',\n",
              " 'nor',\n",
              " 'not',\n",
              " 'only',\n",
              " 'own',\n",
              " 'same',\n",
              " 'so',\n",
              " 'than',\n",
              " 'too',\n",
              " 'very',\n",
              " 's',\n",
              " 't',\n",
              " 'can',\n",
              " 'will',\n",
              " 'just',\n",
              " 'don',\n",
              " \"don't\",\n",
              " 'should',\n",
              " \"should've\",\n",
              " 'now',\n",
              " 'd',\n",
              " 'll',\n",
              " 'm',\n",
              " 'o',\n",
              " 're',\n",
              " 've',\n",
              " 'y',\n",
              " 'ain',\n",
              " 'aren',\n",
              " \"aren't\",\n",
              " 'couldn',\n",
              " \"couldn't\",\n",
              " 'didn',\n",
              " \"didn't\",\n",
              " 'doesn',\n",
              " \"doesn't\",\n",
              " 'hadn',\n",
              " \"hadn't\",\n",
              " 'hasn',\n",
              " \"hasn't\",\n",
              " 'haven',\n",
              " \"haven't\",\n",
              " 'isn',\n",
              " \"isn't\",\n",
              " 'ma',\n",
              " 'mightn',\n",
              " \"mightn't\",\n",
              " 'mustn',\n",
              " \"mustn't\",\n",
              " 'needn',\n",
              " \"needn't\",\n",
              " 'shan',\n",
              " \"shan't\",\n",
              " 'shouldn',\n",
              " \"shouldn't\",\n",
              " 'wasn',\n",
              " \"wasn't\",\n",
              " 'weren',\n",
              " \"weren't\",\n",
              " 'won',\n",
              " \"won't\",\n",
              " 'wouldn',\n",
              " \"wouldn't\"]"
            ]
          },
          "metadata": {},
          "execution_count": 13
        }
      ]
    },
    {
      "cell_type": "code",
      "source": [
        "preview=[]\n",
        "for i in review:\n",
        "  if i not in stopwords.words('english'):\n",
        "    preview.append(i)"
      ],
      "metadata": {
        "id": "ONPQTCp0dlas"
      },
      "execution_count": 14,
      "outputs": []
    },
    {
      "cell_type": "code",
      "source": [
        "preview"
      ],
      "metadata": {
        "colab": {
          "base_uri": "https://localhost:8080/"
        },
        "id": "kzA9wgpSd78C",
        "outputId": "e1fa9dc1-86b5-4ac2-efc7-8a5f3ecfc4e4"
      },
      "execution_count": 15,
      "outputs": [
        {
          "output_type": "execute_result",
          "data": {
            "text/plain": [
              "['Wow', 'Loved', 'place']"
            ]
          },
          "metadata": {},
          "execution_count": 15
        }
      ]
    },
    {
      "cell_type": "code",
      "source": [
        "review = [i for i in review if i not in stopwords.words('english')]"
      ],
      "metadata": {
        "id": "xy4FKSm9eKFU"
      },
      "execution_count": 16,
      "outputs": []
    },
    {
      "cell_type": "code",
      "source": [
        "review"
      ],
      "metadata": {
        "colab": {
          "base_uri": "https://localhost:8080/"
        },
        "id": "vz9lROAlefx0",
        "outputId": "cb67ae11-6221-4e20-c117-7302810a96e3"
      },
      "execution_count": 17,
      "outputs": [
        {
          "output_type": "execute_result",
          "data": {
            "text/plain": [
              "['Wow', 'Loved', 'place']"
            ]
          },
          "metadata": {},
          "execution_count": 17
        }
      ]
    },
    {
      "cell_type": "code",
      "source": [
        "from nltk.stem.porter import PorterStemmer\n",
        "ps = PorterStemmer()"
      ],
      "metadata": {
        "id": "cW962YbXeg53"
      },
      "execution_count": 18,
      "outputs": []
    },
    {
      "cell_type": "code",
      "source": [
        "review = [ps.stem(i) for i in review]"
      ],
      "metadata": {
        "id": "W0mlKRCifLtc"
      },
      "execution_count": 19,
      "outputs": []
    },
    {
      "cell_type": "code",
      "source": [
        "review"
      ],
      "metadata": {
        "colab": {
          "base_uri": "https://localhost:8080/"
        },
        "id": "eff2SwXTfeQB",
        "outputId": "dc9393bb-fd06-4b4d-8a5d-df1b68ed9794"
      },
      "execution_count": 20,
      "outputs": [
        {
          "output_type": "execute_result",
          "data": {
            "text/plain": [
              "['wow', 'love', 'place']"
            ]
          },
          "metadata": {},
          "execution_count": 20
        }
      ]
    },
    {
      "cell_type": "code",
      "source": [
        "review = \" \".join(review)"
      ],
      "metadata": {
        "id": "PdBBaNm3fgVx"
      },
      "execution_count": 21,
      "outputs": []
    },
    {
      "cell_type": "code",
      "source": [
        "print(review)"
      ],
      "metadata": {
        "colab": {
          "base_uri": "https://localhost:8080/"
        },
        "id": "e23JLxnIfrU8",
        "outputId": "1a583af8-817d-401e-ebb1-ae93abaf4aac"
      },
      "execution_count": 22,
      "outputs": [
        {
          "output_type": "stream",
          "name": "stdout",
          "text": [
            "wow love place\n"
          ]
        }
      ]
    },
    {
      "cell_type": "code",
      "source": [
        "corpus = []\n",
        "\n",
        "for i in range(len(data)):\n",
        "\n",
        "  reviews = re.sub('[^a-zA-Z]',\" \", data['Review'][i])\n",
        "  review = reviews.split()\n",
        "  review = [ps.stem(i) for i in review if i not in stopwords.words('english')]\n",
        "  review = \" \".join(review)\n",
        "\n",
        "  corpus.append(review)"
      ],
      "metadata": {
        "id": "h9uj_NLGfwCw"
      },
      "execution_count": 23,
      "outputs": []
    },
    {
      "cell_type": "code",
      "source": [
        "print(corpus)"
      ],
      "metadata": {
        "colab": {
          "base_uri": "https://localhost:8080/"
        },
        "id": "2Pfk63Jjg-aR",
        "outputId": "f26f2030-8a41-4cf9-c764-6dba50579a8d"
      },
      "execution_count": 24,
      "outputs": [
        {
          "output_type": "stream",
          "name": "stdout",
          "text": [
            "['wow love place', 'crust good', 'not tasti textur nasti', 'stop late may bank holiday rick steve recommend love', 'the select menu great price', 'now i get angri i want damn pho', 'honeslti tast that fresh', 'the potato like rubber could tell made ahead time kept warmer', 'the fri great', 'a great touch', 'servic prompt', 'would go back', 'the cashier care ever i say still end wayyy overpr', 'i tri cape cod ravoli chicken cranberri mmmm', 'i disgust i pretti sure human hair', 'i shock sign indic cash', 'highli recommend', 'waitress littl slow servic', 'thi place worth time let alon vega', 'like', 'the burritto blah', 'the food amaz', 'servic also cute', 'i could care less the interior beauti', 'so perform', 'that right red velvet cake ohhh stuff good', 'they never brought salad ask', 'thi hole wall great mexican street taco friendli staff', 'took hour get food tabl restaur food luke warm our sever run around like total overwhelm', 'the worst salmon sashimi', 'also combo like burger fri beer decent deal', 'thi like final blow', 'i found place accid i could happier', 'seem like good quick place grab bite familiar pub food favor look elsewher', 'overal i like place lot', 'the redeem qualiti restaur inexpens', 'ampl portion good price', 'poor servic waiter made feel like i stupid everi time came tabl', 'my first visit hiro delight', 'servic suck', 'the shrimp tender moist', 'there deal good enough would drag establish', 'hard judg whether side good gross melt styrofoam want eat fear get sick', 'on posit note server attent provid great servic', 'frozen puck disgust worst peopl behind regist', 'the thing i like prime rib dessert section', 'it bad food damn gener', 'the burger good beef cook right', 'if want sandwich go firehous', 'my side greek salad greek dress tasti pita hummu refresh', 'we order duck rare pink tender insid nice char outsid', 'he came run us realiz husband left sunglass tabl', 'their chow mein good', 'they horribl attitud toward custom talk one custom enjoy food', 'the portion huge', 'love friendli server great food wonder imagin menu', 'the heart attack grill downtown vega absolut flat line excus restaur', 'not much seafood like string pasta bottom', 'the salad right amount sauc power scallop perfectli cook', 'the rip banana rip petrifi tasteless', 'at least think refil water i struggl wave minut', 'thi place receiv star appet', 'the cocktail handmad delici', 'we definit go back', 'we glad found place', 'great food servic huge portion give militari discount', 'alway great time do gringo', 'updat went back second time still amaz', 'we got food appar never heard salt batter fish chewi', 'a great way finish great', 'the deal includ tast drink jeff went beyond expect', 'realli realli good rice time', 'the servic meh', 'it took min get milkshak noth chocol milk', 'i guess i known place would suck insid excalibur i use common sens', 'the scallop dish quit appal valu well', 'time veri bad custom servic', 'the sweet potato fri good season well', 'today second time i lunch buffet pretti good', 'there much good food vega i feel cheat wast eat opportun go rice compani', 'come like experienc underwhelm relationship parti wait person ask break', 'walk place smell like old greas trap other eat', 'the turkey roast beef bland', 'thi place', 'the pan cake everyon rave tast like sugari disast tailor palat six year old', 'i love pho spring roll oh yummi tri', 'the poor batter meat ratio made chicken tender unsatisfi', 'all i say food amaz', 'omelet die', 'everyth fresh delici', 'in summari larg disappoint dine experi', 'it like realli sexi parti mouth outrag flirt hottest person parti', 'never hard rock casino will never ever step forward in it again', 'best breakfast buffet', 'say bye bye tip ladi', 'we never go', 'will back', 'food arriv quickli', 'it good', 'on side cafe serv realli good food', 'our server fantast found wife love roast garlic bone marrow ad extra meal anoth marrow go', 'the good thing waiter help kept bloddi mari come', 'best buffet town price cannot beat', 'i love mussel cook wine reduct duck tender potato dish delici', 'thi one better buffet i', 'so went tigerlilli fantast afternoon', 'the food delici bartend attent person and got great deal', 'the ambienc wonder music play', 'will go back next trip', 'sooooo good', 'real sushi lover let honest yama good', 'at least min pass us order food arriv busi', 'thi realli fantast thai restaur definit worth visit', 'nice spici tender', 'good price', 'check', 'it pretti gross', 'i better atmospher', 'kind hard mess steak', 'although i much like look sound place actual experi bit disappoint', 'i know place manag serv blandest food i ever eaten prepar indian cuisin', 'worst servic boot least worri', 'servic fine waitress friendli', 'the guy steak steak love son steak best worst place said best steak ever eaten', 'we thought ventur away get good sushi place realli hit spot night', 'host staff lack better word bitch', 'bland not like place number reason i want wast time bad review i leav', 'phenomen food servic ambianc', 'i return', 'definit worth ventur strip pork belli return next time i vega', 'thi place way overpr mediocr food', 'penn vodka excel', 'they good select food includ massiv meatloaf sandwich crispi chicken wrap delish tuna melt tasti burger', 'the manag rude', 'delici nyc bagel good select cream chees real lox caper even', 'great subway fact good come everi subway meet expect', 'i serious solid breakfast', 'thi one best bar food vega', 'he extrem rude realli mani restaur i would love dine weekend vega', 'my drink never empti made realli great menu suggest', 'don', 'the waiter help friendli rare check us', 'my husband i ate lunch disappoint food servic', 'and red curri much bamboo shoot tasti', 'nice blanket moz top feel like done cover subpar food', 'the bathroom clean place well decor', 'the menu alway chang food qualiti go servic extrem slow', 'the servic littl slow consid serv peopl server food come slow pace', 'i give thumb', 'we watch waiter pay lot attent tabl ignor us', 'my fianc i came middl day greet seat right away', 'thi great restaur mandalay bay', 'we wait forti five minut vain', 'crostini came salad stale', 'some highlight great qualiti nigiri', 'staff friendli joint alway clean', 'differ cut piec day still wonder tender well well flavor', 'i order voodoo pasta first time i realli excel pasta sinc go gluten free sever year ago', 'place good', 'unfortun must hit bakeri leftov day everyth order stale', 'i came back today sinc reloc still impress', 'i seat immedi', 'their menu divers reason price', 'avoid cost', 'restaur alway full never wait', 'delici', 'thi place hand one best place eat phoenix metro area', 'so go look good food', 'i never treat bad', 'bacon hella salti', 'we also order spinach avocado salad ingredi sad dress liter zero tast', 'thi realli vega fine dine use right menu hand ladi price list', 'the waitress friendli', 'lordi khao soi dish miss curri lover', 'everyth menu terrif also thrill made amaz accommod vegetarian daughter', 'perhap i caught night judg review i inspir go back', 'the servic leav lot desir', 'the atmospher modern hip maintain touch cozi', 'not weekli haunt definit place come back everi', 'we liter sat minut one ask take order', 'the burger absolut flavor meat total bland burger overcook charcoal flavor', 'i also decid send back waitress look like verg heart attack', 'i dress treat rude', 'it probabl dirt', 'love place hit spot i want someth healthi lack quantiti flavor', 'i order lemon raspberri ice cocktail also incred', 'the food suck expect suck could imagin', 'interest decor', 'what i realli like crepe station', 'also serv hot bread butter home made potato chip bacon bit top origin good', 'watch prepar delici food', 'both egg roll fantast', 'when order arriv one gyro miss', 'i salad wing ice cream dessert left feel quit satisfi', 'i realli sure joey vote best hot dog valley reader phoenix magazin', 'the best place go tasti bowl pho', 'the live music friday total blow', 'i never insult felt disrespect', 'veri friendli staff', 'it worth drive', 'i heard good thing place exceed everi hope i could dream', 'food great serivc', 'the warm beer help', 'great brunch spot', 'servic friendli invit', 'veri good lunch spot', 'i live sinc first last time i step foot place', 'the worst experi ever', 'must night place', 'the side delish mix mushroom yukon gold pure white corn beateou', 'if bug never show i would given sure side wall bug climb kitchen', 'for minut wait salad realiz come time soon', 'my friend love salmon tartar', 'won go back', 'extrem tasti', 'waitress good though', 'soggi good', 'the jamaican mojito delici', 'which small worth price', 'food rich order accordingli', 'the shower area outsid rins take full shower unless mind nude everyon see', 'the servic bit lack', 'lobster bisqu bussel sprout risotto filet all need salt pepper cours none tabl', 'hope bode go busi someon cook come', 'it either cold enough flavor bad', 'i love bacon wrap date', 'thi unbeliev bargain', 'the folk otto alway make us feel welcom special', 'as main also uninspir', 'thi place i first pho amaz', 'thi wonder experi made place must stop whenev town', 'if food bad enough enjoy deal world worst annoy drunk peopl', 'veri fun chef', 'order doubl cheeseburg got singl patti fall apart pictur upload yeah still suck', 'great place coupl drink watch sport event wall cover tv', 'if possibl give zero star', 'the descript said yum yum sauc anoth said eel sauc yet anoth said spici mayo well none roll sauc', 'i say would hardest decis honestli m dish tast suppos tast amaz', 'if roll eye may stay not sure go back tri', 'everyon attent provid excel custom servic', 'horribl wast time money', 'now dish quit flavour', 'by time side restaur almost empti excus', 'it busi either also build freez cold', 'like review said pay eat place', 'drink took close minut come one point', 'serious flavor delight folk', 'much better ayc sushi place i went vega', 'the light dark enough set mood', 'base sub par servic i receiv effort show gratitud busi i go back', 'owner realli great peopl', 'there noth privileg work eat', 'the greek dress creami flavor', 'overal i think i would take parent place made similar complaint i silent felt', 'now pizza good peanut sauc tasti', 'we tabl servic pretti fast', 'fantast servic', 'i well would given godfath zero star possibl', 'they know make', 'tough short flavor', 'i hope place stick around', 'i bar vega ever recal charg tap water', 'the restaur atmospher exquisit', 'good servic clean inexpens boot', 'the seafood fresh gener portion', 'plu buck', 'the servic par either', 'thu far visit twice food absolut delici time', 'just good i year ago', 'for self proclaim coffe cafe i wildli disappoint', 'the veggitarian platter world', 'you cant go wrong food', 'you beat', 'stop place madison ironman friendli kind staff', 'the chef friendli good job', 'i better dedic boba tea spot even jenni pho', 'i like patio servic outstand', 'the goat taco skimp meat wow flavor', 'i think', 'i mac salad pretti bland i get', 'i went bachi burger friend recommend disappoint', 'servic stink', 'i wait wait', 'thi place qualiti sushi qualiti restaur', 'i would definit recommend wing well pizza', 'great pizza salad', 'thing went wrong they burn saganaki', 'we wait hour breakfast i could done time better home', 'thi place amaz', 'i hate disagre fellow yelper husband i disappoint place', 'wait hour never got either pizza mani around us came later', 'just know slow', 'the staff great food delish incred beer select', 'i live neighborhood i disappoint i back conveni locat', 'i know pull pork could soooo delici', 'you get incred fresh fish prepar care', 'befor i go i gave star rate pleas know third time eat bachi burger write review', 'i love fact everyth menu worth', 'never i dine place', 'the food excel servic good', 'good beer drink select good food select', 'pleas stay away shrimp stir fri noodl', 'the potato chip order sad i could probabl count mani chip box probabl around', 'food realli bore', 'good servic check', 'thi greedi corpor never see anoth dime', 'will never ever go back', 'as much i like go back i get pass atroci servic never return', 'in summer dine charm outdoor patio delight', 'i expect good', 'fantast food', 'she order toast english muffin came untoast', 'the food good', 'never go back', 'great food price high qualiti hous made', 'the bu boy hand rude', 'by point friend i basic figur place joke mind make publicli loudli known', 'back good bbq lighter fare reason price tell public back old way', 'and consid two us left full happi go wrong', 'all bread made hous', 'the downsid servic', 'also fri without doubt worst fri i ever', 'servic except food good review', 'a coupl month later i return amaz meal', 'favorit place town shawarrrrrrma', 'the black eye pea sweet potato unreal', 'you disappoint', 'they could serv vinaigrett may make better overal dish still good', 'i go far mani place i never seen restaur serv egg breakfast especi', 'when mom i got home immedi got sick bite salad', 'the server pleasant deal alway honor pizza hut coupon', 'both truli unbeliev good i glad went back', 'we fantast servic pleas atmospher', 'everyth gross', 'i love place', 'great servic food', 'first bathroom locat dirti seat cover replenish plain yucki', 'the burger i got gold standard burger kind disappoint', 'omg food delicioso', 'there noth authent place', 'spaghetti noth special whatsoev', 'of dish salmon best great', 'the veget fresh sauc feel like authent thai', 'it worth drive tucson', 'the select probabl worst i seen vega none', 'pretti good beer select', 'thi place like chipotl better', 'classi warm atmospher fun fresh appet succul steak basebal steak', 'star brick oven bread app', 'i eaten multipl time time food delici', 'we sat anoth ten minut final gave left', 'he terribl', 'everyon treat equal special', 'it take min pancak egg', 'it delici', 'on good side staff genuin pleasant enthusiast real treat', 'sadli gordon ramsey steak place shall sharpli avoid next trip vega', 'as alway even wonder food delici', 'best fish i ever life', 'the bathroom next door nice', 'the buffet small food offer bland', 'thi outstand littl restaur best food i ever tast', 'pretti cool i would say', 'definit turn doubt i back unless someon els buy', 'server great job handl larg rowdi tabl', 'i find wast food despic food', 'my wife lobster bisqu soup lukewarm', 'would come back i sushi crave vega', 'the staff great ambianc great', 'he deserv star', 'i left stomach ach felt sick rest day', 'they drop ball', 'the dine space tini elegantli decor comfort', 'they custom order way like usual eggplant green bean stir fri love', 'and bean rice mediocr best', 'best taco town far', 'i took back money got outta', 'in interest part town place amaz', 'rude inconsider manag', 'the staff friendli wait time serv horribl one even say hi first minut', 'i back', 'they great dinner', 'the servic outshin i definit recommend halibut', 'the food terribl', 'will never ever go back and have told mani peopl what had happen', 'i recommend unless car break front starv', 'i come back everi time i vega', 'thi place deserv one star food', 'thi disgrac', 'def come back bowl next time', 'if want healthi authent ethic food tri place', 'i continu come ladi night andddd date night highli recommend place anyon area', 'i sever time past experi alway great', 'we walk away stuf happi first vega buffet experi', 'servic excel price pretti reason consid vega locat insid crystal shop mall aria', 'to summar food incred nay transcend noth bring joy quit like memori pneumat condiment dispens', 'i probabl one peopl ever go ian like', 'kid pizza alway hit lot great side dish option kiddo', 'servic perfect famili atmospher nice see', 'cook perfect servic impecc', 'thi one simpli disappoint', 'overal i disappoint qualiti food bouchon', 'i account know i get screw', 'great place eat remind littl mom pop shop san francisco bay area', 'today first tast buldogi gourmet hot dog i tell i ever thought possibl', 'left frustrat', 'i definit soon', 'food realli good i got full petti fast', 'servic fantast', 'total wast of time', 'i know kind best ice tea', 'come hungri leav happi stuf', 'for servic i give star', 'i assur disappoint', 'i take littl bad servic food suck', 'gave tri eat crust teeth still sore', 'but i complet gross', 'i realli enjoy eat', 'first time go i think i quickli becom regular', 'our server nice even though look littl overwhelm need stay profession friendli end', 'from dinner companion told everyth fresh nice textur tast', 'on ground right next tabl larg smear step track everywher pile green bird poop', 'furthermor even find hour oper websit', 'we tri like place time i think done', 'what mistak', 'no complaint', 'thi serious good pizza i expert connisseur topic', 'waiter jerk', 'strike want rush', 'these nicest restaur owner i ever come across', 'i never come', 'we love biscuit', 'servic quick friendli', 'order appet took minut pizza anoth minut', 'so absolutley fantast', 'it huge awkward lb piec cow th gristl fat', 'definit come back', 'i like steiner dark feel like bar', 'wow spici delici', 'if familiar check', 'i take busi dinner dollar elsewher', 'i love go back', 'anyway fs restaur wonder breakfast lunch', 'noth special', 'each day week differ deal delici', 'not mention combin pear almond bacon big winner', 'will back', 'sauc tasteless', 'the food delici spici enough sure ask spicier prefer way', 'my ribey steak cook perfectli great mesquit flavor', 'i think go back anytim soon', 'food gooodd', 'i far sushi connoisseur i definit tell differ good food bad food certainli bad food', 'i insult', 'the last time i lunch bad', 'the chicken wing contain driest chicken meat i ever eaten', 'the food good i enjoy everi mouth enjoy relax venu coupl small famili group etc', 'nargil i think great', 'best tater tot southwest', 'we love place', 'definit worth i paid', 'the vanilla ice cream creami smooth profiterol choux pastri fresh enough', 'im az time new spot', 'the manag worst', 'the insid realli quit nice clean', 'the food outstand price reason', 'i think i run back carli anytim soon food', 'thi due fact took minut acknowledg anoth minut get food kept forget thing', 'love margarita', 'thi first vega buffet disappoint', 'veri good though', 'the one note ventil could use upgrad', 'great pork sandwich', 'don wast time', 'total letdown i would much rather go camelback flower shop cartel coffe', 'third chees friend burger cold', 'we enjoy pizza brunch', 'the steak well trim also perfectli cook', 'we group claim would handl us beauti', 'i love', 'we ask bill leav without eat bring either', 'thi place jewel la vega exactli i hope find nearli ten year live', 'seafood limit boil shrimp crab leg crab leg definit tast fresh', 'the select food best', 'delici i absolut back', 'thi small famili restaur fine dine establish', 'they toro tartar cavier extraordinari i like thinli slice wagyu white truffl', 'i dont think i back long time', 'it attach ga station rare good sign', 'how awesom', 'i back mani time soon', 'the menu much good stuff could decid', 'wors humili worker right front bunch horribl name call', 'conclus veri fill meal', 'their daili special alway hit group', 'and tragedi struck', 'the pancak also realli good pretti larg', 'thi first crawfish experi delici', 'their monster chicken fri steak egg time favorit', 'waitress sweet funni', 'i also tast mom multi grain pumpkin pancak pecan butter amaz fluffi delici', 'i rather eat airlin food serious', 'cant say enough good thing place', 'the ambianc incred', 'the waitress manag friendli', 'i would recommend place', 'overal i impress noca', 'my gyro basic lettuc', 'terribl servic', 'thoroughli disappoint', 'i much pasta i love homemad hand made pasta thin pizza', 'give tri happi', 'by far best cheesecurd ever', 'reason price also', 'everyth perfect night', 'the food good typic bar food', 'drive get', 'at first glanc love bakeri cafe nice ambianc clean friendli staff', 'anyway i think go back', 'point finger item menu order disappoint', 'oh thing beauti restaur', 'if gone go now', 'a greasi unhealthi meal', 'first time might last', 'those burger amaz', 'similarli deliveri man say word apolog food minut late', 'and way expens', 'be sure order dessert even need pack go tiramisu cannoli die', 'thi first time i wait next', 'the bartend also nice', 'everyth good tasti', 'thi place two thumb way', 'the best place vega breakfast check sat sun', 'if love authent mexican food want whole bunch interest yet delici meat choos need tri place', 'terribl manag', 'an excel new restaur experienc frenchman', 'if zero star i would give zero star', 'great steak great side great wine amaz dessert', 'worst martini ever', 'the steak shrimp opinion best entre gc', 'i opportun today sampl amaz pizza', 'we wait thirti minut seat although vacant tabl folk wait', 'the yellowtail carpaccio melt mouth fresh', 'i tri go back even empti', 'no i go eat potato i found stranger hair', 'just spici enough perfect actual', 'last night second time dine i happi i decid go back', 'even hello right', 'the dessert bit strang', 'my boyfriend i came first time recent trip vega could pleas qualiti food servic', 'i realli recommend place go wrong donut place', 'nice ambianc', 'i would recommend save room', 'i guess mayb went night disgrac', 'howev recent experi particular locat good', 'i know like restaur someth', 'avoid thi establish', 'i think restaur suffer tri hard enough', 'all tapa dish delici', 'i heart place', 'my salad bland vinegrett babi green heart palm', 'after two i felt disgust', 'a good time', 'i believ place great stop huge belli hanker sushi', 'gener portion great tast', 'i never go back place never ever recommend place anyon', 'the server went back forth sever time even much are help', 'food delici', 'an hour serious', 'i consid theft', 'eew thi locat need complet overhaul', 'we recent wit poor qualiti manag toward guest well', 'wait wait wait', 'he also came back check us regularli excel servic', 'our server super nice check us mani time', 'the pizza tast old super chewi good way', 'i swung give tri deepli disappoint', 'servic good compani better', 'the staff also friendli effici', 'as servic i fan quick serv nice folk', 'boy sucker dri', 'over rate', 'if look authent thai food go els', 'their steak recommend', 'after i pull car i wait anoth minut acknowledg', 'great food great servic clean friendli set', 'all i assur i back', 'i hate thing much cheap qualiti black oliv', 'my breakfast perpar great beauti present giant slice toast lightli dust powder sugar', 'the kid play area nasti', 'great place fo take eat', 'the waitress friendli happi accomod vegan veggi option', 'omg i felt like i never eaten thai food dish', 'it extrem crumbi pretti tasteless', 'it pale color instead nice char no flavor', 'the crouton also tast homemad extra plu', 'i got home see driest damn wing ever', 'it regular stop trip phoenix', 'i realli enjoy crema caf expand i even told friend best breakfast', 'not good money', 'i miss wish one philadelphia', 'we got sit fairli fast end wait minut place order anoth minut food arriv', 'they also best chees crisp town', 'good valu great food great servic', 'couldn ask satisfi meal', 'the food good', 'it awesom', 'i want leav', 'we made drive way north scottsdal i one bit disappoint', 'i eat', 'the owner realli realli need quit soooooo cheap let wrap freak sandwich two paper one', 'i check place coupl year ago impress', 'the chicken i got definit reheat ok wedg cold soggi', 'sorri i get food anytim soon', 'an absolut must visit', 'the cow tongu cheek taco amaz', 'my friend like bloodi mari', 'despit hard i rate busi actual rare give star', 'they realli want make experi good one', 'i return', 'i chicken pho tast bland', 'veri disappoint', 'the grill chicken tender yellow saffron season', 'drive thru mean want wait around half hour food somehow end go make us wait wait', 'pretti awesom place', 'ambienc perfect', 'best luck rude non custom servic focus new manag', 'ani grandmoth make roast chicken better one', 'i ask multipl time wine list time ignor i went hostess got one', 'the staff alway super friendli help especi cool bring two small boy babi', 'four star food guy blue shirt great vibe still let us eat', 'the roast beef sandwich tast realli good', 'same even i drastic sick', 'high qualiti chicken chicken caesar salad', 'order burger rare came done', 'we promptli greet seat', 'tri go lunch madhous', 'i proven dead wrong sushi bar qualiti great servic fast food impecc', 'after wait hour seat i greatest mood', 'thi good joint', 'the macaron insan good', 'i eat', 'our waiter attent friendli inform', 'mayb cold would somewhat edibl', 'thi place lot promis fail deliv', 'veri bad experi', 'what mistak', 'food averag best', 'great food', 'we go back anytim soon', 'veri veri disappoint order big bay plater', 'great place relax awesom burger beer', 'it perfect sit famili meal get togeth friend', 'not much flavor poorli construct', 'the patio seat comfort', 'the fri rice dri well', 'hand favorit italian restaur', 'that scream legit book somethat also pretti rare vega', 'it fun experi', 'the atmospher great love duo violinist play song request', 'i person love hummu pita baklava falafel baba ganoush amaz eggplant', 'veri conveni sinc stay mgm', 'the owner super friendli staff courteou', 'both great', 'eclect select', 'the sweet potato tot good onion ring perfect close i', 'the staff attent', 'and chef gener time even came around twice take pictur', 'the owner use work nobu place realli similar half price', 'googl mediocr i imagin smashburg pop', 'dont go', 'i promis disappoint', 'as sushi lover avoid place mean', 'what great doubl cheeseburg', 'awesom servic food', 'a fantast neighborhood gem', 'i wait go back', 'the plantain worst i ever tast', 'it great place i highli recommend', 'servic slow attent', 'i gave star i give star', 'your staff spend time talk', 'dessert panna cotta amaz', 'veri good food great atmospher', 'damn good steak', 'total brunch fail', 'price reason flavor spot sauc home made slaw drench mayo', 'the decor nice piano music soundtrack pleasant', 'the steak amaz rge fillet relleno best seafood plate ever', 'good food good servic', 'it absolut amaz', 'i probabl back honest', 'definit back', 'the sergeant pepper beef sandwich auju sauc excel sandwich well', 'hawaiian breez mango magic pineappl delight smoothi i tri far good', 'went lunch servic slow', 'we much say place walk expect amaz quickli disappoint', 'i mortifi', 'needless say never back', 'anyway the food definit fill price pay expect', 'the chip came drip greas mostli edibl', 'i realli impress strip steak', 'have go sinc everi meal awesom', 'our server nice attent serv staff', 'the cashier friendli even brought food', 'i work hospit industri paradis valley refrain recommend cibo longer', 'the atmospher fun', 'would recommend other', 'servic quick even go order like like', 'i mean realli get famou fish chip terribl', 'that said mouth belli still quit pleas', 'not thing', 'thumb up', 'if read pleas go', 'i love grill pizza remind legit italian pizza', 'onli pro larg seat area nice bar area great simpl drink menu the best brick oven pizza homemad dough', 'they realli nice atmospher', 'tonight i elk filet special suck', 'after one bite i hook', 'we order old classic new dish go time sore disappoint everyth', 'cute quaint simpl honest', 'the chicken delici season perfect fri outsid moist chicken insid', 'the food great alway compliment chef', 'special thank dylan t recommend order all yummi tummi', 'awesom select beer', 'great food awesom servic', 'one nice thing ad gratuiti bill sinc parti larger expect tip', 'a fli appl juic a fli', 'the han nan chicken also tasti', 'as servic i thought good', 'the food bare lukewarm must sit wait server bring us', 'ryan bar definit one edinburgh establish i revisit', 'nicest chines restaur i', 'overal i like food servic', 'they also serv indian naan bread hummu spici pine nut sauc world', 'probabl never come back recommend', 'friend pasta also bad bare touch', 'tri airport experi tasti food speedi friendli servic', 'i love decor chines calligraphi wall paper', 'never anyth complain', 'the restaur clean famili restaur feel', 'it way fri', 'i sure long stood long enough begin feel awkwardli place', 'when i open sandwich i impress good way', 'will back', 'there warm feel servic i felt like guest special treat', 'an extens menu provid lot option breakfast', 'i alway order vegetarian menu dinner wide array option choos', 'i watch price inflat portion get smaller manag attitud grow rapidli', 'wonder lil tapa ambienc made feel warm fuzzi insid', 'i got enjoy seafood salad fabul vinegrett', 'the wonton thin thick chewi almost melt mouth', 'level spici perfect spice whelm soup', 'we sat right time server get go fantast', 'main thing i enjoy crowd older crowd around mid', 'when i side town definit spot i hit', 'i wait minut get drink longer get arepa', 'thi great place eat', 'the jalapeno bacon soooo good', 'the servic poor that nice', 'food good servic good price good', 'the place clean food oh stale', 'the chicken dish ok beef like shoe leather', 'but servic beyond bad', 'i happi', 'tast like dirt', 'one place phoenix i would defin go back', 'the block amaz', 'it close hous low key non fanci afford price good food', 'both hot sour egg flower soup absolut star', 'my sashimi poor qualiti soggi tasteless', 'great time famili dinner sunday night', 'food tasti say real tradit hunan style', 'what bother slow servic', 'the flair bartend absolut amaz', 'their frozen margarita way sugari tast', 'these good order twice', 'so nutshel the restaraunt smell like combin dirti fish market sewer', 'my girlfriend veal bad', 'unfortun good', 'i pretti satifi experi', 'join club get awesom offer via email', 'perfect someon like beer ice cold case even colder', 'bland flavorless good way describ bare tepid meat', 'the chain i fan beat place easili', 'the nacho must have', 'we come back', 'i mani word say place everyth pretti well', 'the staff super nice quick even crazi crowd downtown juri lawyer court staff', 'great atmospher friendli fast servic', 'when i receiv pita huge lot meat thumb', 'onc food arriv meh', 'pay hot dog fri look like came kid meal wienerschnitzel idea good meal', 'the classic main lobster roll fantast', 'my brother law work mall ate day guess sick night', 'so good i go review place twice herea tribut place tribut event held last night', 'the chip salsa realli good salsa fresh', 'thi place great', 'mediocr food', 'onc get insid impress place', 'i super pissd', 'and servic super friendli', 'whi sad littl veget overcook', 'thi place nice surpris', 'they golden crispi delici', 'i high hope place sinc burger cook charcoal grill unfortun tast fell flat way flat', 'i could eat bruschetta day devin', 'not singl employe came see ok even need water refil final serv us food', 'lastli mozzarella stick best thing order', 'the first time i ever came i amaz experi i still tell peopl awesom duck', 'the server neglig need made us feel unwelcom i would suggest place', 'the servic terribl though', 'thi place overpr consist boba realli overpr', 'it pack', 'i love place', 'i say dessert yummi', 'the food terribl', 'the season fruit fresh white peach pure', 'it kept get wors wors i offici done', 'thi place honestli blown', 'but i definit would eat', 'do wast money', 'i love put food nice plastic contain oppos cram littl paper takeout box', 'the cr pe delic thin moist', 'aw servic', 'won ever go', 'food qualiti horribl', 'for price i think place i would much rather gone', 'the servic fair best', 'i love sushi i found kabuki price hip servic', 'do favor stay away dish', 'veri poor servic', 'no one tabl thought food averag worth wait', 'best servic food ever maria server good friendli made day', 'they excel', 'i paid bill tip i felt server terribl job', 'just lunch great experi', 'i never bland food surpris consid articl read focus much spice flavor', 'food way overpr portion fuck small', 'i recent tri caballero i back everi week sinc', 'buck head realli expect better food', 'the food came good pace', 'i ate twice last visit especi enjoy salmon salad', 'i back', 'we could believ dirti oyster', 'thi place deserv star', 'i would recommend place', 'in fact i go round star awesom', 'to disbelief dish qualifi worst version food i ever tast', 'bad day i low toler rude custom servic peopl job nice polit wash dish otherwis', 'potato great biscuit', 'i probabl would go', 'so flavor perfect amount heat', 'the price reason servic great', 'the wife hate meal coconut shrimp friend realli enjoy meal either', 'my fella got huevo ranchero look appeal', 'went happi hour great list wine', 'some may say buffet pricey i think get pay place get quit lot', 'i probabl come back', 'worst food servic i', 'thi place pretti good nice littl vibe restaur', 'talk great custom servic cours back', 'hot dish hot cold dish close room temp i watch staff prepar food bare hand glove everyth deep fri oil', 'i love fri bean', 'alway pleasur deal', 'they plethora salad sandwich everyth i tri get seal approv', 'thi place awesom want someth light healthi summer', 'for sushi strip place go', 'the servic great even manag came help tabl', 'the feel dine room colleg cook cours high class dine servic slow best', 'i start review two star i edit give one', 'worst sushi ever eat besid costco', 'all excel restaur highlight great servic uniqu menu beauti set', 'my boyfriend sat bar complet delight experi', 'weird vibe owner', 'there hardli meat', 'i better bagel groceri store', 'go to place gyro', 'i love owner chef one authent japanes cool dude', 'now burger good pizza use amaz doughi flavorless', 'i found six inch long piec wire salsa', 'the servic terribl food mediocr', 'we defin enjoy', 'i order albondiga soup warm tast like tomato soup frozen meatbal', 'on three differ occas i ask well done medium well three time i got bloodiest piec meat plate', 'i two bite refus eat anymor', 'the servic extrem slow', 'after minut wait i got tabl', 'serious killer hot chai latt', 'no allergi warn menu waitress absolut clue meal contain peanut', 'my boyfriend tri mediterranean chicken salad fell love', 'their rotat beer tap also highlight place', 'price bit concern mellow mushroom', 'worst thai ever', 'if stay vega must get breakfast least', 'i want first say server great perfect servic', 'the pizza select good', 'i strawberri tea good', 'highli unprofession rude loyal patron', 'overal great experi', 'spend money elsewher', 'their regular toast bread equal satisfi occasion pat butter mmmm', 'the buffet bellagio far i anticip', 'and drink weak peopl', 'my order correct', 'also i feel like chip bought made hous', 'after disappoint dinner went elsewher dessert', 'the chip sal amaz', 'we return', 'thi new fav vega buffet spot', 'i serious cannot believ owner mani unexperienc employe run around like chicken head cut', 'veri sad', 'felt insult disrespect could talk judg anoth human like', 'how call steakhous properli cook steak i understand', 'i impress concept food', 'the thing i crazi guacamol i like pur ed', 'there realli noth postino hope experi better', 'i got food poison buffet', 'they brought fresh batch fri i think yay someth warm', 'what should hilari yummi christma eve dinner rememb biggest fail entir trip us', 'needless say i go back anytim soon', 'thi place disgust', 'everi time i eat i see care teamwork profession degre', 'the ri style calamari joke', 'howev much garlic fondu bare edibl', 'i could bare stomach meal complain busi lunch', 'it bad i lost heart finish', 'it also took forev bring us check ask', 'we one make scene restaur i get definit lost love one', 'disappoint experi', 'the food par denni say good', 'if want wait mediocr food downright terribl servic place', 'waaaaaayyyyyyyyyi rate i say', 'we go back', 'the place fairli clean food simpli worth', 'thi place lack style', 'the sangria half glass wine full ridicul', 'don bother come', 'the meat pretti dri i slice brisket pull pork', 'the build seem pretti neat bathroom pretti trippi i eat', 'it equal aw', 'probabl hurri go back', 'slow seat even reserv', 'not good stretch imagin', 'the cashew cream sauc bland veget undercook', 'the chipolt ranch dip saus tasteless seem thin water heat', 'it bit sweet realli spici enough lack flavor', 'i veri disappoint', 'thi place horribl way overpr', 'mayb vegetarian fare i twice i thought averag best', 'it busi know', 'the tabl outsid also dirti lot time worker alway friendli help menu', 'the ambianc feel like buffet set douchey indoor garden tea biscuit', 'con spotti servic', 'the fri hot neither burger', 'but came back cold', 'then food came disappoint ensu', 'the real disappoint waiter', 'my husband said rude even apolog bad food anyth', 'the reason eat would fill night bing drink get carb stomach', 'insult profound deuchebaggeri go outsid smoke break serv solidifi', 'if someon order two taco think may part custom servic ask combo ala cart', 'she quit disappoint although blame need place door', 'after rave review i wait eat disappoint', 'del taco pretti nasti avoid possibl', 'it not hard make decent hamburg', 'but i like', 'hell i go back', 'we gotten much better servic pizza place next door servic receiv restaur', 'i know big deal place i back ya', 'i immedi said i want talk manag i want talk guy shot firebal behind bar', 'the ambianc much better', 'unfortun set us disapppoint entre', 'the food good', 'your server suck wait correct server heimer suck', 'what happen next pretti put', 'bad caus i know famili own i realli want like place', 'overpr get', 'i vomit bathroom mid lunch', 'i kept look time soon becom minut yet still food', 'i place eat circumst would i ever return top list', 'we start tuna sashimi brownish color obvious fresh', 'food averag', 'it sure beat nacho movi i would expect littl bit come restaur', 'all ha long bay bit flop', 'the problem i charg sandwich bigger subway sub offer better amount veget', 'shrimp when i unwrap i live mile brushfir liter ice cold', 'it lack flavor seem undercook dri', 'it realli impress place close', 'i would avoid place stay mirag', 'the refri bean came meal dri crusti food bland', 'spend money time place els', 'a ladi tabl next us found live green caterpillar in salad', 'present food aw', 'i tell disappoint i', 'i think food flavor textur lack', 'appetit instantli gone', 'overal i impress would go back', 'the whole experi underwhelm i think go ninja sushi next time', 'then i wast enough life pour salt wound draw time took bring check']\n"
          ]
        }
      ]
    },
    {
      "cell_type": "markdown",
      "source": [
        "# Bag of Word Model"
      ],
      "metadata": {
        "id": "YwkLFvKIhUgK"
      }
    },
    {
      "cell_type": "code",
      "source": [
        "from sklearn.feature_extraction.text import CountVectorizer"
      ],
      "metadata": {
        "id": "kNR_jfAehX7Y"
      },
      "execution_count": 25,
      "outputs": []
    },
    {
      "cell_type": "code",
      "source": [
        "cv = CountVectorizer(max_features=1500)"
      ],
      "metadata": {
        "id": "5CwtDxcdkRUl"
      },
      "execution_count": 26,
      "outputs": []
    },
    {
      "cell_type": "code",
      "source": [
        "x = cv.fit_transform(corpus).toarray()"
      ],
      "metadata": {
        "id": "HhoSvUJjklCA"
      },
      "execution_count": 27,
      "outputs": []
    },
    {
      "cell_type": "code",
      "source": [
        "x.shape"
      ],
      "metadata": {
        "colab": {
          "base_uri": "https://localhost:8080/"
        },
        "id": "9dco6HwmkVYO",
        "outputId": "0e067755-5024-4056-f265-c04016504f48"
      },
      "execution_count": 29,
      "outputs": [
        {
          "output_type": "execute_result",
          "data": {
            "text/plain": [
              "(1000, 1500)"
            ]
          },
          "metadata": {},
          "execution_count": 29
        }
      ]
    },
    {
      "cell_type": "code",
      "source": [
        "y = data.Liked"
      ],
      "metadata": {
        "id": "FdF0Quk4ktIi"
      },
      "execution_count": 38,
      "outputs": []
    },
    {
      "cell_type": "code",
      "source": [
        "y[:10]"
      ],
      "metadata": {
        "colab": {
          "base_uri": "https://localhost:8080/"
        },
        "id": "D-vebnU6qppw",
        "outputId": "06a9922b-6dc8-498a-ca19-91012026fd4d"
      },
      "execution_count": 39,
      "outputs": [
        {
          "output_type": "execute_result",
          "data": {
            "text/plain": [
              "0    1\n",
              "1    0\n",
              "2    0\n",
              "3    1\n",
              "4    1\n",
              "5    0\n",
              "6    0\n",
              "7    0\n",
              "8    1\n",
              "9    1\n",
              "Name: Liked, dtype: int64"
            ]
          },
          "metadata": {},
          "execution_count": 39
        }
      ]
    },
    {
      "cell_type": "code",
      "source": [
        "y.shape"
      ],
      "metadata": {
        "colab": {
          "base_uri": "https://localhost:8080/"
        },
        "id": "1wbGV7qDqqgV",
        "outputId": "418b9354-40a3-414c-d9cc-d57be4a9b6f8"
      },
      "execution_count": 40,
      "outputs": [
        {
          "output_type": "execute_result",
          "data": {
            "text/plain": [
              "(1000,)"
            ]
          },
          "metadata": {},
          "execution_count": 40
        }
      ]
    },
    {
      "cell_type": "code",
      "source": [
        "from sklearn.model_selection import train_test_split\n",
        "X_train, X_test, y_train,y_test = train_test_split(x,y, test_size = 0.2)"
      ],
      "metadata": {
        "id": "xQPPu4jGq9n5"
      },
      "execution_count": 42,
      "outputs": []
    },
    {
      "cell_type": "code",
      "source": [
        "X_train.shape, X_test.shape, y_train.shape, y_test.shape"
      ],
      "metadata": {
        "colab": {
          "base_uri": "https://localhost:8080/"
        },
        "id": "XTfewZJ30bsE",
        "outputId": "8cd729d3-6f9f-4e81-a752-f38fdf920afa"
      },
      "execution_count": 43,
      "outputs": [
        {
          "output_type": "execute_result",
          "data": {
            "text/plain": [
              "((800, 1500), (200, 1500), (800,), (200,))"
            ]
          },
          "metadata": {},
          "execution_count": 43
        }
      ]
    },
    {
      "cell_type": "code",
      "source": [
        "from sklearn.naive_bayes import GaussianNB"
      ],
      "metadata": {
        "id": "t53JgA2700ph"
      },
      "execution_count": 44,
      "outputs": []
    },
    {
      "cell_type": "code",
      "source": [
        "classifier = GaussianNB()"
      ],
      "metadata": {
        "id": "BOxB_-BO0719"
      },
      "execution_count": 46,
      "outputs": []
    },
    {
      "cell_type": "code",
      "source": [
        "classifier.fit(X_train, y_train)"
      ],
      "metadata": {
        "colab": {
          "base_uri": "https://localhost:8080/"
        },
        "id": "o5b2a4-f1BSp",
        "outputId": "518797b2-2a11-43ba-d4a9-d32b311f8b4a"
      },
      "execution_count": 47,
      "outputs": [
        {
          "output_type": "execute_result",
          "data": {
            "text/plain": [
              "GaussianNB()"
            ]
          },
          "metadata": {},
          "execution_count": 47
        }
      ]
    },
    {
      "cell_type": "code",
      "source": [
        "y_pred = classifier.predict(X_test)"
      ],
      "metadata": {
        "id": "BQEzmYTi1IqV"
      },
      "execution_count": 48,
      "outputs": []
    },
    {
      "cell_type": "code",
      "source": [
        "from sklearn.metrics import accuracy_score"
      ],
      "metadata": {
        "id": "OU6puMYV1Nza"
      },
      "execution_count": 50,
      "outputs": []
    },
    {
      "cell_type": "code",
      "source": [
        "accuracy_score(y_test, y_pred)"
      ],
      "metadata": {
        "colab": {
          "base_uri": "https://localhost:8080/"
        },
        "id": "60HhwPAo1TW5",
        "outputId": "59e1eed9-5b30-41c2-8f76-c323f1ef715e"
      },
      "execution_count": 54,
      "outputs": [
        {
          "output_type": "execute_result",
          "data": {
            "text/plain": [
              "0.735"
            ]
          },
          "metadata": {},
          "execution_count": 54
        }
      ]
    },
    {
      "cell_type": "code",
      "source": [],
      "metadata": {
        "id": "Qnzq7_vd1Y4i"
      },
      "execution_count": null,
      "outputs": []
    }
  ]
}